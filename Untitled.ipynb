{
 "cells": [
  {
   "cell_type": "code",
   "execution_count": 1,
   "id": "8c1ba2b5",
   "metadata": {},
   "outputs": [],
   "source": [
    "import torch\n",
    "from torch import nn\n",
    "import torch.nn.functional as F\n",
    "\n",
    "class Network(nn.Module):\n",
    "    def __init__(self):\n",
    "        super(Network,self).__init__()\n",
    "        self.fc1 = nn.Linear(28*28, 256)\n",
    "        self.fc2 = nn.Linear(256, 128)\n",
    "        self.fc3 = nn.Linear(128, 10)\n",
    "\n",
    "    def forward(self, x):\n",
    "        x = x.view(1,-1)\n",
    "        x = F.relu(self.fc1(x))\n",
    "        x = F.relu(self.fc2(x))\n",
    "        x = self.fc3(x)\n",
    "        return x\n",
    "\n",
    "model = Network()\n",
    "\n",
    "if torch.cuda.is_available():\n",
    "    model = model.cuda()"
   ]
  },
  {
   "cell_type": "code",
   "execution_count": 4,
   "id": "2f704096",
   "metadata": {},
   "outputs": [
    {
     "name": "stdout",
     "output_type": "stream",
     "text": [
      "Downloading http://yann.lecun.com/exdb/mnist/train-images-idx3-ubyte.gz\n",
      "Downloading http://yann.lecun.com/exdb/mnist/train-images-idx3-ubyte.gz to MNIST/raw/train-images-idx3-ubyte.gz\n"
     ]
    },
    {
     "name": "stderr",
     "output_type": "stream",
     "text": [
      "100.0%\n"
     ]
    },
    {
     "name": "stdout",
     "output_type": "stream",
     "text": [
      "Extracting MNIST/raw/train-images-idx3-ubyte.gz to MNIST/raw\n"
     ]
    },
    {
     "name": "stderr",
     "output_type": "stream",
     "text": [
      "102.8%"
     ]
    },
    {
     "name": "stdout",
     "output_type": "stream",
     "text": [
      "\n",
      "Downloading http://yann.lecun.com/exdb/mnist/train-labels-idx1-ubyte.gz\n",
      "Downloading http://yann.lecun.com/exdb/mnist/train-labels-idx1-ubyte.gz to MNIST/raw/train-labels-idx1-ubyte.gz\n",
      "Extracting MNIST/raw/train-labels-idx1-ubyte.gz to MNIST/raw\n",
      "\n",
      "Downloading http://yann.lecun.com/exdb/mnist/t10k-images-idx3-ubyte.gz\n"
     ]
    },
    {
     "name": "stderr",
     "output_type": "stream",
     "text": [
      "\n",
      "26.3%"
     ]
    },
    {
     "name": "stdout",
     "output_type": "stream",
     "text": [
      "Downloading http://yann.lecun.com/exdb/mnist/t10k-images-idx3-ubyte.gz to MNIST/raw/t10k-images-idx3-ubyte.gz\n"
     ]
    },
    {
     "name": "stderr",
     "output_type": "stream",
     "text": [
      "100.0%\n"
     ]
    },
    {
     "name": "stdout",
     "output_type": "stream",
     "text": [
      "Extracting MNIST/raw/t10k-images-idx3-ubyte.gz to MNIST/raw\n",
      "\n",
      "Downloading http://yann.lecun.com/exdb/mnist/t10k-labels-idx1-ubyte.gz\n",
      "Downloading http://yann.lecun.com/exdb/mnist/t10k-labels-idx1-ubyte.gz to MNIST/raw/t10k-labels-idx1-ubyte.gz\n"
     ]
    },
    {
     "name": "stderr",
     "output_type": "stream",
     "text": [
      "112.7%\n"
     ]
    },
    {
     "name": "stdout",
     "output_type": "stream",
     "text": [
      "Extracting MNIST/raw/t10k-labels-idx1-ubyte.gz to MNIST/raw\n",
      "\n",
      "Epoch {e+1} \t\t Training Loss: {\ttrain_loss / len(trainloader)} \t\t Validation Loss: {\tvalid_loss / len(validloader)}\n",
      "Validation Loss Decreased({min_valid_loss:.6f\t\t}--->{valid_loss:.6f}) \t Saving The Model\n",
      "Epoch {e+1} \t\t Training Loss: {\ttrain_loss / len(trainloader)} \t\t Validation Loss: {\tvalid_loss / len(validloader)}\n",
      "Validation Loss Decreased({min_valid_loss:.6f\t\t}--->{valid_loss:.6f}) \t Saving The Model\n",
      "Epoch {e+1} \t\t Training Loss: {\ttrain_loss / len(trainloader)} \t\t Validation Loss: {\tvalid_loss / len(validloader)}\n",
      "Validation Loss Decreased({min_valid_loss:.6f\t\t}--->{valid_loss:.6f}) \t Saving The Model\n",
      "Epoch {e+1} \t\t Training Loss: {\ttrain_loss / len(trainloader)} \t\t Validation Loss: {\tvalid_loss / len(validloader)}\n",
      "Validation Loss Decreased({min_valid_loss:.6f\t\t}--->{valid_loss:.6f}) \t Saving The Model\n",
      "Epoch {e+1} \t\t Training Loss: {\ttrain_loss / len(trainloader)} \t\t Validation Loss: {\tvalid_loss / len(validloader)}\n",
      "Validation Loss Decreased({min_valid_loss:.6f\t\t}--->{valid_loss:.6f}) \t Saving The Model\n"
     ]
    }
   ],
   "source": [
    "import torch\n",
    "from torch import nn\n",
    "import torch.nn.functional as F\n",
    "from torchvision import datasets, transforms\n",
    "from torch.utils.data import DataLoader, random_split\n",
    "import numpy as np\n",
    "\n",
    "#Declare transform to convert raw data to tensor\n",
    "transforms = transforms.Compose([\n",
    "\t\t\t\t\t\t\t\ttransforms.ToTensor()\n",
    "])\n",
    "\n",
    "# Loading Data and splitting it into train and validation data\n",
    "train = datasets.MNIST('', train = True, transform = transforms, download = True)\n",
    "train, valid = random_split(train,[50000,10000])\n",
    "\n",
    "# Create Dataloader of the above tensor with batch size = 32\n",
    "trainloader = DataLoader(train, batch_size=32)\n",
    "validloader = DataLoader(valid, batch_size=32)\n",
    "\n",
    "# Building Our Mode\n",
    "class Network(nn.Module):\n",
    "\t# Declaring the Architecture\n",
    "\tdef __init__(self):\n",
    "\t\tsuper(Network,self).__init__()\n",
    "\t\tself.fc1 = nn.Linear(28*28, 256)\n",
    "\t\tself.fc2 = nn.Linear(256, 128)\n",
    "\t\tself.fc3 = nn.Linear(128, 10)\n",
    "\n",
    "\t# Forward Pass\n",
    "\tdef forward(self, x):\n",
    "\t\tx = x.view(x.shape[0],-1) # Flatten the images\n",
    "\t\tx = F.relu(self.fc1(x))\n",
    "\t\tx = F.relu(self.fc2(x))\n",
    "\t\tx = self.fc3(x)\n",
    "\t\treturn x\n",
    "\n",
    "model = Network()\n",
    "if torch.cuda.is_available():\n",
    "\tmodel = model.cuda()\n",
    "\n",
    "# Declaring Criterion and Optimizer\n",
    "criterion = nn.CrossEntropyLoss()\n",
    "optimizer = torch.optim.SGD(model.parameters(), lr = 0.01)\n",
    "\n",
    "# Training with Validation\n",
    "epochs = 5\n",
    "min_valid_loss = np.inf\n",
    "\n",
    "for e in range(epochs):\n",
    "\ttrain_loss = 0.0\n",
    "\tfor data, labels in trainloader:\n",
    "\t\t# Transfer Data to GPU if available\n",
    "\t\tif torch.cuda.is_available():\n",
    "\t\t\tdata, labels = data.cuda(), labels.cuda()\n",
    "\t\t\n",
    "\t\t# Clear the gradients\n",
    "\t\toptimizer.zero_grad()\n",
    "\t\t# Forward Pass\n",
    "\t\ttarget = model(data)\n",
    "\t\t# Find the Loss\n",
    "\t\tloss = criterion(target,labels)\n",
    "\t\t# Calculate gradients\n",
    "\t\tloss.backward()\n",
    "\t\t# Update Weights\n",
    "\t\toptimizer.step()\n",
    "\t\t# Calculate Loss\n",
    "\t\ttrain_loss += loss.item()\n",
    "\t\n",
    "\tvalid_loss = 0.0\n",
    "\tmodel.eval()\t # Optional when not using Model Specific layer\n",
    "\tfor data, labels in validloader:\n",
    "\t\t# Transfer Data to GPU if available\n",
    "\t\tif torch.cuda.is_available():\n",
    "\t\t\tdata, labels = data.cuda(), labels.cuda()\n",
    "\t\t\n",
    "\t\t# Forward Pass\n",
    "\t\ttarget = model(data)\n",
    "\t\t# Find the Loss\n",
    "\t\tloss = criterion(target,labels)\n",
    "\t\t# Calculate Loss\n",
    "\t\tvalid_loss += loss.item()\n",
    "\n",
    "\tprint('Epoch {e+1} \\t\\t Training Loss: {\\\n",
    "\ttrain_loss / len(trainloader)} \\t\\t Validation Loss: {\\\n",
    "\tvalid_loss / len(validloader)}')\n",
    "\t\n",
    "\tif min_valid_loss > valid_loss:\n",
    "\t\tprint('Validation Loss Decreased({min_valid_loss:.6f\\\n",
    "\t\t}--->{valid_loss:.6f}) \\t Saving The Model')\n",
    "\t\tmin_valid_loss = valid_loss\n",
    "\t\t\n",
    "\t\t# Saving State Dict\n",
    "\t\ttorch.save(model.state_dict(), 'saved_model.pth')\n"
   ]
  },
  {
   "cell_type": "code",
   "execution_count": 5,
   "id": "e1c7334c",
   "metadata": {},
   "outputs": [
    {
     "data": {
      "text/plain": [
       "False"
      ]
     },
     "execution_count": 5,
     "metadata": {},
     "output_type": "execute_result"
    }
   ],
   "source": [
    "torch.cuda.is_available()"
   ]
  },
  {
   "cell_type": "code",
   "execution_count": null,
   "id": "5054fbb7",
   "metadata": {},
   "outputs": [],
   "source": []
  }
 ],
 "metadata": {
  "kernelspec": {
   "display_name": "Python 3 (ipykernel)",
   "language": "python",
   "name": "python3"
  },
  "language_info": {
   "codemirror_mode": {
    "name": "ipython",
    "version": 3
   },
   "file_extension": ".py",
   "mimetype": "text/x-python",
   "name": "python",
   "nbconvert_exporter": "python",
   "pygments_lexer": "ipython3",
   "version": "3.8.10"
  }
 },
 "nbformat": 4,
 "nbformat_minor": 5
}
